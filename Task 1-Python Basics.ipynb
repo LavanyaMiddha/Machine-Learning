{
 "cells": [
  {
   "cell_type": "markdown",
   "metadata": {},
   "source": [
    "### Strings"
   ]
  },
  {
   "cell_type": "code",
   "execution_count": 1,
   "metadata": {},
   "outputs": [
    {
     "name": "stdout",
     "output_type": "stream",
     "text": [
      "<class 'str'>\n",
      "Lavanya\n",
      "L a v a n y a "
     ]
    }
   ],
   "source": [
    "str1=\"Lavanya\"\n",
    "print(type(str1))\n",
    "print(str1)\n",
    "for x in str1:\n",
    "    print(x, end=\" \")\n",
    "    "
   ]
  },
  {
   "cell_type": "markdown",
   "metadata": {},
   "source": [
    "### Lists"
   ]
  },
  {
   "cell_type": "code",
   "execution_count": 3,
   "metadata": {},
   "outputs": [
    {
     "name": "stdout",
     "output_type": "stream",
     "text": [
      "<class 'list'>\n",
      "[1, 2, 3, 4, 5, 6]\n",
      "11, 12, 13, 14, 15, 16, "
     ]
    }
   ],
   "source": [
    "a=[1,2,3,4,5,6]\n",
    "print(type(a))\n",
    "print(a)\n",
    "for x in a:\n",
    "    print(x+10, end=\", \")"
   ]
  },
  {
   "cell_type": "markdown",
   "metadata": {},
   "source": [
    "### Integers, Floating numbers, Complex Numbers"
   ]
  },
  {
   "cell_type": "code",
   "execution_count": 4,
   "metadata": {},
   "outputs": [
    {
     "name": "stdout",
     "output_type": "stream",
     "text": [
      "<class 'int'>\n",
      "20\n",
      "\n",
      "<class 'float'>\n",
      "20.8\n",
      "\n",
      "<class 'complex'>\n",
      "20j\n"
     ]
    }
   ],
   "source": [
    "x=20\n",
    "y=20.8\n",
    "z=20j\n",
    "print(type(x))\n",
    "print(x)\n",
    "print()\n",
    "print(type(y))\n",
    "print(y)\n",
    "print()\n",
    "print(type(z))\n",
    "print(z)"
   ]
  },
  {
   "cell_type": "markdown",
   "metadata": {},
   "source": [
    "### Dictionary"
   ]
  },
  {
   "cell_type": "code",
   "execution_count": 8,
   "metadata": {},
   "outputs": [
    {
     "name": "stdout",
     "output_type": "stream",
     "text": [
      "{'name': 'Alex', 'age': 20, 'designation': 'CEO'}\n"
     ]
    }
   ],
   "source": [
    "l1=(\"name\", \"age\", \"designation\")\n",
    "l2=(\"Alex\", 20, \"CEO\")\n",
    "d=dict(zip(l1,l2))\n",
    "print(d)"
   ]
  },
  {
   "cell_type": "markdown",
   "metadata": {},
   "source": [
    "### Accessing values from a file"
   ]
  },
  {
   "cell_type": "code",
   "execution_count": 10,
   "metadata": {},
   "outputs": [
    {
     "name": "stdout",
     "output_type": "stream",
     "text": [
      "Python is an interpreted, high-level and general-purpose programming language. Python's design philosophy emphasizes code readability with its notable use of significant whitespace. Its language constructs and object-oriented approach aim to help programmers write clear, logical code for small and large-scale projects.[29]\n",
      "\n",
      "\n",
      "\n",
      "Python is dynamically-typed and garbage-collected. It supports multiple programming paradigms, including structured (particularly, procedural), object-oriented and functional programming. Python is often described as a \"batteries included\" language due to its comprehensive standard library.[30]\n",
      "\n",
      "\n",
      "\n",
      "Python was created in the late 1980s, and first released in 1991, by Guido van Rossum as a successor to the ABC programming language. Python 2.0, released in 2000, introduced new features, such as list comprehensions, and a garbage collection system with reference counting, and was discontinued with version 2.7 in 2020.[31] Python 3.0, released in 2008, was a major revision of the language that is not completely backward-compatible and much Python 2 code does not run unmodified on Python 3. With Python 2's end-of-life (and pip having dropped support in 2021[32]), only Python 3.6.x[33] and later are supported, with older versions still supporting e.g. Windows 7 (and old installers not restricted to 64-bit Windows).\n",
      "\n",
      "\n",
      "\n",
      "Python interpreters are supported for mainstream operating systems and available for a few more (and in the past supported many more). A global community of programmers develops and maintains CPython, a free and open-source[34] reference implementation. A non-profit organization, the Python Software Foundation, manages and directs resources for Python and CPython development.\n",
      "\n",
      "\n",
      "\n",
      "As of December 2020 Python ranked third in TIOBEâ€™s index of most popular programming languages, behind C and Java.[35]\n"
     ]
    }
   ],
   "source": [
    "f = open(\"text1.txt\", \"r\")\n",
    "for line in f:\n",
    "    print(line)\n",
    "f.close()"
   ]
  },
  {
   "cell_type": "code",
   "execution_count": 23,
   "metadata": {},
   "outputs": [
    {
     "name": "stdout",
     "output_type": "stream",
     "text": [
      "{'Python': 14, 'is': 4, 'an': 1, 'interpreted,': 1, 'high-level': 1, 'and': 16, 'general-purpose': 1, 'programming': 4, 'language.': 2, \"Python's\": 1, 'design': 1, 'philosophy': 1, 'emphasizes': 1, 'code': 3, 'readability': 1, 'with': 4, 'its': 2, 'notable': 1, 'use': 1, 'of': 5, 'significant': 1, 'whitespace.': 1, 'Its': 1, 'language': 3, 'constructs': 1, 'object-oriented': 2, 'approach': 1, 'aim': 1, 'to': 4, 'help': 1, 'programmers': 2, 'write': 1, 'clear,': 1, 'logical': 1, 'for': 4, 'small': 1, 'large-scale': 1, 'projects.[29]\\n': 1, '\\n': 4, 'dynamically-typed': 1, 'garbage-collected.': 1, 'It': 1, 'supports': 1, 'multiple': 1, 'paradigms,': 1, 'including': 1, 'structured': 1, '(particularly,': 1, 'procedural),': 1, 'functional': 1, 'programming.': 1, 'often': 1, 'described': 1, 'as': 3, 'a': 6, '\"batteries': 1, 'included\"': 1, 'due': 1, 'comprehensive': 1, 'standard': 1, 'library.[30]\\n': 1, 'was': 3, 'created': 1, 'in': 8, 'the': 5, 'late': 1, '1980s,': 1, 'first': 1, 'released': 3, '1991,': 1, 'by': 1, 'Guido': 1, 'van': 1, 'Rossum': 1, 'successor': 1, 'ABC': 1, '2.0,': 1, '2000,': 1, 'introduced': 1, 'new': 1, 'features,': 1, 'such': 1, 'list': 1, 'comprehensions,': 1, 'garbage': 1, 'collection': 1, 'system': 1, 'reference': 2, 'counting,': 1, 'discontinued': 1, 'version': 1, '2.7': 1, '2020.[31]': 1, '3.0,': 1, '2008,': 1, 'major': 1, 'revision': 1, 'that': 1, 'not': 3, 'completely': 1, 'backward-compatible': 1, 'much': 1, '2': 1, 'does': 1, 'run': 1, 'unmodified': 1, 'on': 1, '3.': 1, 'With': 1, \"2's\": 1, 'end-of-life': 1, '(and': 3, 'pip': 1, 'having': 1, 'dropped': 1, 'support': 1, '2021[32]),': 1, 'only': 1, '3.6.x[33]': 1, 'later': 1, 'are': 2, 'supported,': 1, 'older': 1, 'versions': 1, 'still': 1, 'supporting': 1, 'e.g.': 1, 'Windows': 1, '7': 1, 'old': 1, 'installers': 1, 'restricted': 1, '64-bit': 1, 'Windows).\\n': 1, 'interpreters': 1, 'supported': 2, 'mainstream': 1, 'operating': 1, 'systems': 1, 'available': 1, 'few': 1, 'more': 1, 'past': 1, 'many': 1, 'more).': 1, 'A': 2, 'global': 1, 'community': 1, 'develops': 1, 'maintains': 1, 'CPython,': 1, 'free': 1, 'open-source[34]': 1, 'implementation.': 1, 'non-profit': 1, 'organization,': 1, 'Software': 1, 'Foundation,': 1, 'manages': 1, 'directs': 1, 'resources': 1, 'CPython': 1, 'development.\\n': 1, 'As': 1, 'December': 1, '2020': 1, 'ranked': 1, 'third': 1, 'TIOBEâ€™s': 1, 'index': 1, 'most': 1, 'popular': 1, 'languages,': 1, 'behind': 1, 'C': 1, 'Java.[35]': 1}\n"
     ]
    }
   ],
   "source": [
    "freq={}\n",
    "f = open(\"text1.txt\", \"r\")\n",
    "for line in f:\n",
    "    words=line.split(\" \")\n",
    "    for word in words:\n",
    "        if(word in freq):\n",
    "            freq[word]=freq[word]+1\n",
    "        else:\n",
    "            freq[word]=1\n",
    "print(freq)\n",
    "f.close()"
   ]
  },
  {
   "cell_type": "code",
   "execution_count": 30,
   "metadata": {},
   "outputs": [
    {
     "data": {
      "text/html": [
       "<div>\n",
       "<style scoped>\n",
       "    .dataframe tbody tr th:only-of-type {\n",
       "        vertical-align: middle;\n",
       "    }\n",
       "\n",
       "    .dataframe tbody tr th {\n",
       "        vertical-align: top;\n",
       "    }\n",
       "\n",
       "    .dataframe thead th {\n",
       "        text-align: right;\n",
       "    }\n",
       "</style>\n",
       "<table border=\"1\" class=\"dataframe\">\n",
       "  <thead>\n",
       "    <tr style=\"text-align: right;\">\n",
       "      <th></th>\n",
       "      <th>0</th>\n",
       "      <th>1</th>\n",
       "    </tr>\n",
       "  </thead>\n",
       "  <tbody>\n",
       "    <tr>\n",
       "      <th>0</th>\n",
       "      <td>Python</td>\n",
       "      <td>14</td>\n",
       "    </tr>\n",
       "    <tr>\n",
       "      <th>1</th>\n",
       "      <td>is</td>\n",
       "      <td>4</td>\n",
       "    </tr>\n",
       "    <tr>\n",
       "      <th>2</th>\n",
       "      <td>an</td>\n",
       "      <td>1</td>\n",
       "    </tr>\n",
       "    <tr>\n",
       "      <th>3</th>\n",
       "      <td>interpreted,</td>\n",
       "      <td>1</td>\n",
       "    </tr>\n",
       "    <tr>\n",
       "      <th>4</th>\n",
       "      <td>high-level</td>\n",
       "      <td>1</td>\n",
       "    </tr>\n",
       "    <tr>\n",
       "      <th>5</th>\n",
       "      <td>and</td>\n",
       "      <td>16</td>\n",
       "    </tr>\n",
       "    <tr>\n",
       "      <th>6</th>\n",
       "      <td>general-purpose</td>\n",
       "      <td>1</td>\n",
       "    </tr>\n",
       "    <tr>\n",
       "      <th>7</th>\n",
       "      <td>programming</td>\n",
       "      <td>4</td>\n",
       "    </tr>\n",
       "    <tr>\n",
       "      <th>8</th>\n",
       "      <td>language.</td>\n",
       "      <td>2</td>\n",
       "    </tr>\n",
       "    <tr>\n",
       "      <th>9</th>\n",
       "      <td>Python's</td>\n",
       "      <td>1</td>\n",
       "    </tr>\n",
       "  </tbody>\n",
       "</table>\n",
       "</div>"
      ],
      "text/plain": [
       "                 0   1\n",
       "0           Python  14\n",
       "1               is   4\n",
       "2               an   1\n",
       "3     interpreted,   1\n",
       "4       high-level   1\n",
       "5              and  16\n",
       "6  general-purpose   1\n",
       "7      programming   4\n",
       "8        language.   2\n",
       "9         Python's   1"
      ]
     },
     "execution_count": 30,
     "metadata": {},
     "output_type": "execute_result"
    }
   ],
   "source": [
    "import pandas as pd\n",
    "l1=freq.keys()\n",
    "l2=freq.values()\n",
    "df=pd.DataFrame(zip(l1,l2))\n",
    "df.head(10)"
   ]
  },
  {
   "cell_type": "code",
   "execution_count": null,
   "metadata": {},
   "outputs": [],
   "source": []
  }
 ],
 "metadata": {
  "kernelspec": {
   "display_name": "Python 3",
   "language": "python",
   "name": "python3"
  },
  "language_info": {
   "codemirror_mode": {
    "name": "ipython",
    "version": 3
   },
   "file_extension": ".py",
   "mimetype": "text/x-python",
   "name": "python",
   "nbconvert_exporter": "python",
   "pygments_lexer": "ipython3",
   "version": "3.7.9"
  }
 },
 "nbformat": 4,
 "nbformat_minor": 4
}
